{
 "cells": [
  {
   "cell_type": "code",
   "execution_count": 18,
   "metadata": {},
   "outputs": [
    {
     "ename": "SyntaxError",
     "evalue": "unexpected EOF while parsing (514593269.py, line 29)",
     "output_type": "error",
     "traceback": [
      "\u001b[0;36m  File \u001b[0;32m\"/var/folders/x6/0vmh3mfs3jlcq08jgbj55j500000gn/T/ipykernel_10630/514593269.py\"\u001b[0;36m, line \u001b[0;32m29\u001b[0m\n\u001b[0;31m    \u001b[0m\n\u001b[0m    ^\u001b[0m\n\u001b[0;31mSyntaxError\u001b[0m\u001b[0;31m:\u001b[0m unexpected EOF while parsing\n"
     ]
    }
   ],
   "source": [
    "\n",
    "import numpy as np\n",
    "import matplotlib.pyplot as plt\n",
    "\n",
    "%matplotlib inline\n",
    "\n",
    "triangulo = np.zeros((21, 21, 3), dtype=np.uint8)\n",
    "# num = 5\n",
    "# m = 5\n",
    "# for i in range(m,-1,-1):\n",
    "#     print(\".\"*(m-i)+\"*\"*(2*i+1))\n",
    "\n",
    "for x in range(triangulo[0]): \n",
    "    for y in range(triangulo[1]): \n",
    "        \n",
    "\n",
    "\n",
    "# triangulo = np.zeros((21, 21, 3), dtype=np.uint8)\n",
    "\n",
    "\n",
    "# # x es vertical \n",
    "# # y es horizontal \n",
    "\n",
    "# for x in range(triangulo.shape[0]): \n",
    "#     for y in range(triangulo.shape[1]):\n",
    "\n",
    "\n",
    "\n",
    "\n",
    "\n",
    "\n"
   ]
  }
 ],
 "metadata": {
  "interpreter": {
   "hash": "b8717084b76608c9b9398c01270572f750893a221e0a14fc5dc3a8ca5071ef2d"
  },
  "kernelspec": {
   "display_name": "Python 3.7.11 ('Vision')",
   "language": "python",
   "name": "python3"
  },
  "language_info": {
   "codemirror_mode": {
    "name": "ipython",
    "version": 3
   },
   "file_extension": ".py",
   "mimetype": "text/x-python",
   "name": "python",
   "nbconvert_exporter": "python",
   "pygments_lexer": "ipython3",
   "version": "3.7.11"
  },
  "orig_nbformat": 4
 },
 "nbformat": 4,
 "nbformat_minor": 2
}
